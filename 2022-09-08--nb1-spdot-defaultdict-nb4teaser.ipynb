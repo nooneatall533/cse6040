{
  "cells": [
    {
      "cell_type": "markdown",
      "metadata": {
        "id": "view-in-github",
        "colab_type": "text"
      },
      "source": [
        "<a href=\"https://colab.research.google.com/github/nooneatall533/cse6040/blob/main/2022-09-08--nb1-spdot-defaultdict-nb4teaser.ipynb\" target=\"_parent\"><img src=\"https://colab.research.google.com/assets/colab-badge.svg\" alt=\"Open In Colab\"/></a>"
      ]
    },
    {
      "cell_type": "markdown",
      "metadata": {
        "id": "-MA0sFtmhRYm"
      },
      "source": [
        "# nb1+2 topics #\n",
        "\n",
        "Topics in this note:\n",
        "\n",
        "* Exercise nb1.1.3 — contrasting three methods\n",
        "* Extension: Sparse dot products\n",
        "* Default dictionaries\n",
        "* Notebook 4 sneak-peak (Google Colab)"
      ]
    },
    {
      "cell_type": "markdown",
      "metadata": {
        "id": "Iqzi5VrLhRYu"
      },
      "source": [
        "## nb1.1.3 — Decompressing a sparse vector ##"
      ]
    },
    {
      "cell_type": "markdown",
      "metadata": {
        "id": "PhFcUEQahRYw"
      },
      "source": [
        "Consider a sparse vector as defined for problem nb1.1.3. A logical vector of length `n`, which is expected to have many zero elements, is stored using a pair of lists that record only the nonzero values and their indices. These two lists are, in turn, wrapped into a dictionary."
      ]
    },
    {
      "cell_type": "code",
      "execution_count": 1,
      "metadata": {
        "id": "472fDZNxhRYy"
      },
      "outputs": [],
      "source": [
        "d = {}\n",
        "d['inds'] = [0,   3,   7,   3,   3,   5, 1]\n",
        "d['vals'] = [1.0, 2.0, 3.0, 4.0, 5.0, 6.0, 7.0]"
      ]
    },
    {
      "cell_type": "markdown",
      "metadata": {
        "id": "fHko1x2UhRY0"
      },
      "source": [
        "This corresponds to a logical (mathematical) vector, `x_true`, whose elements are:"
      ]
    },
    {
      "cell_type": "code",
      "execution_count": 2,
      "metadata": {
        "id": "sHr5cbKBhRY1"
      },
      "outputs": [],
      "source": [
        "x_true = [1.0, 7.0, 0.0, 11.0, 0.0, 6.0, 0.0, 3.0]"
      ]
    },
    {
      "cell_type": "markdown",
      "metadata": {
        "id": "U0U22EdGhRY3"
      },
      "source": [
        "Thus, the object `d` is a compact representation of `x_true` when there are many zero components."
      ]
    },
    {
      "cell_type": "markdown",
      "metadata": {
        "id": "0nN8FMughRY5"
      },
      "source": [
        "Recall that the task in nb1.1.3 is to decompress `d`, producing `x_true`. A natural method is to construct each element of the output, one at a time. For each output, the method scans the sparse vector and accumulates all matching entries."
      ]
    },
    {
      "cell_type": "code",
      "execution_count": 3,
      "metadata": {
        "id": "oomjJvwShRY6"
      },
      "outputs": [],
      "source": [
        "def decomp_i(i, d):\n",
        "    x_i = 0.0\n",
        "    for k, v in zip(d['inds'], d['vals']): # O(m)\n",
        "        if k == i:\n",
        "            x_i += v\n",
        "    return x_i"
      ]
    },
    {
      "cell_type": "code",
      "execution_count": 4,
      "metadata": {
        "id": "_OtLwLJghRY8"
      },
      "outputs": [],
      "source": [
        "def decomp_i__alt(i, d):\n",
        "    vals_i = [v for k, v in zip(d['inds'], d['vals']) if k == i]\n",
        "    return sum(vals_i)"
      ]
    },
    {
      "cell_type": "code",
      "execution_count": 8,
      "metadata": {
        "id": "2TTn1qsOhRY9",
        "outputId": "47a3ee67-a672-4c9b-8eae-bdbb1deb35ea",
        "colab": {
          "base_uri": "https://localhost:8080/",
          "height": 193
        }
      },
      "outputs": [
        {
          "output_type": "stream",
          "name": "stdout",
          "text": [
            "[1.0, 7.0, 0.0, 11.0, 0.0, 6.0, 0.0, 3.0, 1.0, 7.0, 0.0, 11.0, 0.0, 6.0, 0.0, 3.0]\n"
          ]
        },
        {
          "output_type": "error",
          "ename": "AssertionError",
          "evalue": "",
          "traceback": [
            "\u001b[0;31m---------------------------------------------------------------------------\u001b[0m",
            "\u001b[0;31mAssertionError\u001b[0m                            Traceback (most recent call last)",
            "\u001b[0;32m/tmp/ipython-input-1567254119.py\u001b[0m in \u001b[0;36m<cell line: 0>\u001b[0;34m()\u001b[0m\n\u001b[1;32m     17\u001b[0m \u001b[0mx\u001b[0m \u001b[0;34m=\u001b[0m \u001b[0mdecomp__v0\u001b[0m\u001b[0;34m(\u001b[0m\u001b[0md\u001b[0m\u001b[0;34m)\u001b[0m\u001b[0;34m\u001b[0m\u001b[0;34m\u001b[0m\u001b[0m\n\u001b[1;32m     18\u001b[0m \u001b[0mprint\u001b[0m\u001b[0;34m(\u001b[0m\u001b[0mx\u001b[0m\u001b[0;34m)\u001b[0m\u001b[0;34m\u001b[0m\u001b[0;34m\u001b[0m\u001b[0m\n\u001b[0;32m---> 19\u001b[0;31m \u001b[0;32massert\u001b[0m \u001b[0mx\u001b[0m \u001b[0;34m==\u001b[0m \u001b[0mx_true\u001b[0m\u001b[0;34m\u001b[0m\u001b[0;34m\u001b[0m\u001b[0m\n\u001b[0m",
            "\u001b[0;31mAssertionError\u001b[0m: "
          ]
        }
      ],
      "source": [
        "def decomp__v0(d, n=None):\n",
        "    # Input is of length `m`\n",
        "    # Output is of length `n`\n",
        "    # If possible, we'd like a method that scales like `O(m + n)`\n",
        "\n",
        "    if n is None:\n",
        "        n = max(d['inds']) + 1\n",
        "\n",
        "    x = []\n",
        "    x = [decomp_i(i,d) for i in range(n)]\n",
        "    #for i in range(n): # O(n)\n",
        "        # build element x[i]\n",
        "        #x.append(decomp_i(i, d))\n",
        "\n",
        "    return x\n",
        "\n",
        "x = decomp__v0(d)\n",
        "print(x)\n",
        "assert x == x_true"
      ]
    },
    {
      "cell_type": "code",
      "source": [],
      "metadata": {
        "id": "9ZqtGNjqJ73X"
      },
      "execution_count": null,
      "outputs": []
    },
    {
      "cell_type": "markdown",
      "metadata": {
        "id": "omGskwjwhRY_"
      },
      "source": [
        "The problem with the above is that it reads `d` for _every_ output element. Can we accomplish the same thing touching each input only once (or only a few times)? Yes!"
      ]
    },
    {
      "cell_type": "code",
      "execution_count": null,
      "metadata": {
        "id": "JsjlY1bDhRZA",
        "outputId": "d46cb08b-4405-49ee-9458-5cd8982e575f"
      },
      "outputs": [
        {
          "name": "stdout",
          "output_type": "stream",
          "text": [
            "[1.0, 7.0, 0, 11.0, 0, 6.0, 0, 3.0]\n"
          ]
        }
      ],
      "source": [
        "def decomp__v1(d, n=None):\n",
        "    if n is None:\n",
        "        n = max(d['inds']) + 1\n",
        "    y = [0] * n  # O(n)\n",
        "    for k, v in zip(d['inds'], d['vals']): # O(m)\n",
        "        y[k] += v\n",
        "    return y\n",
        "\n",
        "y = decomp__v1(d)\n",
        "print(y)\n",
        "assert y == x_true"
      ]
    },
    {
      "cell_type": "markdown",
      "metadata": {
        "id": "IxWrQoAahRZA"
      },
      "source": [
        "## Follow-up exercise: Sparse dot products ##"
      ]
    },
    {
      "cell_type": "markdown",
      "metadata": {
        "id": "-qCmLMNPhRZB"
      },
      "source": [
        "Consider a dense dot product where the vector elements (or components) include zeros:"
      ]
    },
    {
      "cell_type": "code",
      "execution_count": 11,
      "metadata": {
        "id": "vbtDlcDwhRZB",
        "outputId": "c10c9e3e-e15a-4723-c1cb-58af9e8e9411",
        "colab": {
          "base_uri": "https://localhost:8080/"
        }
      },
      "outputs": [
        {
          "output_type": "execute_result",
          "data": {
            "text/plain": [
              "-130"
            ]
          },
          "metadata": {},
          "execution_count": 11
        }
      ],
      "source": [
        "x = [17, 0, 0, -20, -20, 14, 0, 0, -6, 0]\n",
        "y = [-6, 0, 13, 0, 2, 0, 0, 7, -2, 0]\n",
        "\n",
        "def dot(x, y):\n",
        "    return sum(ex*ey for ex, ey in zip(x, y))\n",
        "\n",
        "dot(x, y)"
      ]
    },
    {
      "cell_type": "markdown",
      "metadata": {
        "id": "UD9wxYFbhRZC"
      },
      "source": [
        "Here is a variation on this code designed to resemble more closely the mathematical formula for a dot product, which iterates over an index:\n",
        "\n",
        "$$\\mbox{dot}(x, y) = \\sum_{i=0}^{n-1} x_i y_i.$$"
      ]
    },
    {
      "cell_type": "code",
      "execution_count": 12,
      "metadata": {
        "id": "qzwhatThhRZC",
        "outputId": "e6269240-fc71-455e-cd81-4d45619b8c52",
        "colab": {
          "base_uri": "https://localhost:8080/"
        }
      },
      "outputs": [
        {
          "output_type": "execute_result",
          "data": {
            "text/plain": [
              "-130"
            ]
          },
          "metadata": {},
          "execution_count": 12
        }
      ],
      "source": [
        "def dot__v2(x, y):\n",
        "    assert len(x) == len(y)\n",
        "    return sum(x[i]*y[i] for i in range(len(x)))\n",
        "\n",
        "dot__v2(x, y)"
      ]
    },
    {
      "cell_type": "markdown",
      "metadata": {
        "id": "wVAhe3GhhRZD"
      },
      "source": [
        "Suppose we want to exploit the zeros by avoiding storing and operating on them. Here are two sparse vectors in the style of `nb1.1.3`:"
      ]
    },
    {
      "cell_type": "code",
      "execution_count": 9,
      "metadata": {
        "id": "rRDrzq2zhRZD"
      },
      "outputs": [],
      "source": [
        "dx = {'inds': [0, 3, 4, 5, 8], 'vals': [17, -20, -20, 14, -6]}\n",
        "dy = {'inds': [0, 2, 4, 7, 8], 'vals': [-6, 13, 2, 7, -2]}"
      ]
    },
    {
      "cell_type": "markdown",
      "metadata": {
        "id": "RIOYlHqfhRZE"
      },
      "source": [
        "**Question:** What does a dot product look like for this sparse representation?"
      ]
    },
    {
      "cell_type": "markdown",
      "metadata": {
        "id": "I479Wn8ihRZE"
      },
      "source": [
        "The terms of the dot product (i.e., $x_i y_i$) are nonzero only when _both_ $x_i \\neq 0$ and $y_i \\neq 0$. We can detect the common $i$ indices between the two sparse vectors by converting the indices to sets and then finding their intersection:"
      ]
    },
    {
      "cell_type": "code",
      "execution_count": 29,
      "metadata": {
        "id": "YaWj069JhRZF",
        "outputId": "464e13e2-c17e-420e-a7d0-a90a308bb843",
        "colab": {
          "base_uri": "https://localhost:8080/"
        }
      },
      "outputs": [
        {
          "output_type": "stream",
          "name": "stdout",
          "text": [
            "3.09 µs ± 67.4 ns per loop (mean ± std. dev. of 7 runs, 100000 loops each)\n"
          ]
        }
      ],
      "source": [
        "def common_inds(dx, dy):\n",
        "    inds_x = set(dx['inds'])\n",
        "    inds_y = set(dy['inds'])\n",
        "    return inds_x & inds_y\n",
        "\n",
        "common_inds(dx, dy)\n",
        "\n",
        "def sparse_dot_mine(dx,dy):\n",
        "  commoninds = [i for i in common_inds(dx,dy)]\n",
        "  res = 0\n",
        "  xvector = {k:v for k,v in zip(dx['inds'], dx['vals'])}\n",
        "  yvector = {k:v for k,v in zip(dy['inds'], dy['vals'])}\n",
        "  res = sum(xvector[commoninds[i]] * yvector[commoninds[i]] for i in range(len(commoninds)))\n",
        "  return res\n",
        "\n",
        "%timeit sparse_dot_mine(dx,dy)"
      ]
    },
    {
      "cell_type": "markdown",
      "metadata": {
        "id": "ZLEucLtOhRZF"
      },
      "source": [
        "From this building block, here's a first cut at a dot product \"derived\" from `dot__v2`:"
      ]
    },
    {
      "cell_type": "code",
      "execution_count": 30,
      "metadata": {
        "id": "jW93-a94hRZG",
        "outputId": "518b9b38-2f61-44b1-bfd2-c10000bddb14",
        "colab": {
          "base_uri": "https://localhost:8080/"
        }
      },
      "outputs": [
        {
          "output_type": "stream",
          "name": "stdout",
          "text": [
            "1.77 µs ± 379 ns per loop (mean ± std. dev. of 7 runs, 1000000 loops each)\n"
          ]
        }
      ],
      "source": [
        "def sp_dot__v0(dx, dy):\n",
        "    dot = 0\n",
        "    for i in common_inds(dx, dy):    # O(m) where m == max nnz per vector\n",
        "        loc_x = dx['inds'].index(i)  # Also O(m) because of the index-search\n",
        "        loc_y = dy['inds'].index(i)\n",
        "        x_i = dx['vals'][loc_x]\n",
        "        y_i = dy['vals'][loc_y]\n",
        "        dot += x_i * y_i\n",
        "    return dot\n",
        "\n",
        "%timeit sp_dot__v0(dx, dy)"
      ]
    },
    {
      "cell_type": "markdown",
      "metadata": {
        "id": "fLZ1T6vPhRZG"
      },
      "source": [
        "If each vector has an average of $m$ nonzeros, then the cost of this procedure is $O(m^2)$, since there is a hidden $O(m)$ cost to search the list to find the index location."
      ]
    },
    {
      "cell_type": "markdown",
      "metadata": {
        "id": "szvV9NVJhRZG"
      },
      "source": [
        "**Reducing the cost.** To reduce the cost of search, we can ask whether there is some preprocessing that might help. Indeed, in a single pass over the sparse vector, we can construct a \"lookup table\" that maps indices to values."
      ]
    },
    {
      "cell_type": "code",
      "execution_count": null,
      "metadata": {
        "id": "UOIxPnw6hRZK",
        "outputId": "162a4b59-33a4-48fe-b083-5650851924da"
      },
      "outputs": [
        {
          "data": {
            "text/plain": [
              "{0: 17, 3: -20, 4: -20, 5: 14, 8: -6}"
            ]
          },
          "execution_count": 12,
          "metadata": {},
          "output_type": "execute_result"
        }
      ],
      "source": [
        "def gen_lookup(d): # `d` is a sparse vector\n",
        "    t = {} # Lookup table to map an index to its value\n",
        "    for i, v in zip(d['inds'], d['vals']):\n",
        "        if i not in t:\n",
        "            t[i] = 0\n",
        "        t[i] += v\n",
        "    return t\n",
        "\n",
        "gen_lookup(dx) # Demo"
      ]
    },
    {
      "cell_type": "markdown",
      "metadata": {
        "id": "Qh9DKv-5hRZK"
      },
      "source": [
        "> _Note:_ This code will work even in the case of repeated indices, even though our example does not include that case."
      ]
    },
    {
      "cell_type": "code",
      "execution_count": null,
      "metadata": {
        "id": "kGyBaCkBhRZK",
        "outputId": "b543d6b3-83ee-4633-9e5f-d26610930741"
      },
      "outputs": [
        {
          "name": "stdout",
          "output_type": "stream",
          "text": [
            "{'inds': [0, 3, 7, 3, 3, 5, 1], 'vals': [1.0, 2.0, 3.0, 4.0, 5.0, 6.0, 7.0]}\n",
            "{0: 1.0, 3: 11.0, 7: 3.0, 5: 6.0, 1: 7.0}\n",
            "[1.0, 7.0, 0.0, 11.0, 0.0, 6.0, 0.0, 3.0]\n"
          ]
        }
      ],
      "source": [
        "print(d)\n",
        "print(gen_lookup(d))\n",
        "print(x_true)"
      ]
    },
    {
      "cell_type": "markdown",
      "metadata": {
        "id": "niGv4VcfhRZL"
      },
      "source": [
        "Combining these two building blocks, here is a more efficient sparse dot:"
      ]
    },
    {
      "cell_type": "code",
      "execution_count": null,
      "metadata": {
        "id": "qsyymLSGhRZL",
        "outputId": "103a597a-b10d-48e0-86e2-3f511b9404d8"
      },
      "outputs": [
        {
          "data": {
            "text/plain": [
              "-130"
            ]
          },
          "execution_count": 14,
          "metadata": {},
          "output_type": "execute_result"
        }
      ],
      "source": [
        "def sp_dot__v1(dx, dy):\n",
        "    tx = gen_lookup(dx)\n",
        "    ty = gen_lookup(dy)\n",
        "    I = set(tx.keys()) & set(ty.keys()) # common indices\n",
        "    return sum(tx[i]*ty[i] for i in I)\n",
        "\n",
        "sp_dot__v1(dx, dy)"
      ]
    },
    {
      "cell_type": "markdown",
      "metadata": {
        "id": "HMB7WnjwhRZM"
      },
      "source": [
        "**Benchmarking.** Let's compare the speed of these two sparse dot product implementations against the dense case. Let's start with a small example."
      ]
    },
    {
      "cell_type": "code",
      "execution_count": 31,
      "metadata": {
        "id": "8HmEOMQWhRZM",
        "outputId": "ca886e1c-b957-42bc-e609-5566112f3b63",
        "colab": {
          "base_uri": "https://localhost:8080/",
          "height": 512
        }
      },
      "outputs": [
        {
          "output_type": "stream",
          "name": "stdout",
          "text": [
            "* Dense case...\n",
            "1.1 µs ± 1.73 ns per loop (mean ± std. dev. of 7 runs, 1000000 loops each)\n",
            "\n",
            "* Sparse dot, version 0...\n",
            "1.76 µs ± 364 ns per loop (mean ± std. dev. of 7 runs, 1000000 loops each)\n",
            "\n",
            "* Sparse dot, version 1...\n"
          ]
        },
        {
          "output_type": "error",
          "ename": "NameError",
          "evalue": "name 'sp_dot__v1' is not defined",
          "traceback": [
            "\u001b[0;31m---------------------------------------------------------------------------\u001b[0m",
            "\u001b[0;31mNameError\u001b[0m                                 Traceback (most recent call last)",
            "\u001b[0;32m/tmp/ipython-input-1118537076.py\u001b[0m in \u001b[0;36m<cell line: 0>\u001b[0;34m()\u001b[0m\n\u001b[1;32m     16\u001b[0m \u001b[0;34m\u001b[0m\u001b[0m\n\u001b[1;32m     17\u001b[0m \u001b[0mprint\u001b[0m\u001b[0;34m(\u001b[0m\u001b[0;34m\"\\n* Sparse dot, version 1...\"\u001b[0m\u001b[0;34m)\u001b[0m\u001b[0;34m\u001b[0m\u001b[0;34m\u001b[0m\u001b[0m\n\u001b[0;32m---> 18\u001b[0;31m \u001b[0mget_ipython\u001b[0m\u001b[0;34m(\u001b[0m\u001b[0;34m)\u001b[0m\u001b[0;34m.\u001b[0m\u001b[0mrun_line_magic\u001b[0m\u001b[0;34m(\u001b[0m\u001b[0;34m'timeit'\u001b[0m\u001b[0;34m,\u001b[0m \u001b[0;34m'sp_dot__v1(dx, dy)'\u001b[0m\u001b[0;34m)\u001b[0m\u001b[0;34m\u001b[0m\u001b[0;34m\u001b[0m\u001b[0m\n\u001b[0m",
            "\u001b[0;32m/usr/local/lib/python3.12/dist-packages/IPython/core/interactiveshell.py\u001b[0m in \u001b[0;36mrun_line_magic\u001b[0;34m(self, magic_name, line, _stack_depth)\u001b[0m\n\u001b[1;32m   2416\u001b[0m                 \u001b[0mkwargs\u001b[0m\u001b[0;34m[\u001b[0m\u001b[0;34m'local_ns'\u001b[0m\u001b[0;34m]\u001b[0m \u001b[0;34m=\u001b[0m \u001b[0mself\u001b[0m\u001b[0;34m.\u001b[0m\u001b[0mget_local_scope\u001b[0m\u001b[0;34m(\u001b[0m\u001b[0mstack_depth\u001b[0m\u001b[0;34m)\u001b[0m\u001b[0;34m\u001b[0m\u001b[0;34m\u001b[0m\u001b[0m\n\u001b[1;32m   2417\u001b[0m             \u001b[0;32mwith\u001b[0m \u001b[0mself\u001b[0m\u001b[0;34m.\u001b[0m\u001b[0mbuiltin_trap\u001b[0m\u001b[0;34m:\u001b[0m\u001b[0;34m\u001b[0m\u001b[0;34m\u001b[0m\u001b[0m\n\u001b[0;32m-> 2418\u001b[0;31m                 \u001b[0mresult\u001b[0m \u001b[0;34m=\u001b[0m \u001b[0mfn\u001b[0m\u001b[0;34m(\u001b[0m\u001b[0;34m*\u001b[0m\u001b[0margs\u001b[0m\u001b[0;34m,\u001b[0m \u001b[0;34m**\u001b[0m\u001b[0mkwargs\u001b[0m\u001b[0;34m)\u001b[0m\u001b[0;34m\u001b[0m\u001b[0;34m\u001b[0m\u001b[0m\n\u001b[0m\u001b[1;32m   2419\u001b[0m             \u001b[0;32mreturn\u001b[0m \u001b[0mresult\u001b[0m\u001b[0;34m\u001b[0m\u001b[0;34m\u001b[0m\u001b[0m\n\u001b[1;32m   2420\u001b[0m \u001b[0;34m\u001b[0m\u001b[0m\n",
            "\u001b[0;32m<decorator-gen-53>\u001b[0m in \u001b[0;36mtimeit\u001b[0;34m(self, line, cell, local_ns)\u001b[0m\n",
            "\u001b[0;32m/usr/local/lib/python3.12/dist-packages/IPython/core/magic.py\u001b[0m in \u001b[0;36m<lambda>\u001b[0;34m(f, *a, **k)\u001b[0m\n\u001b[1;32m    185\u001b[0m     \u001b[0;31m# but it's overkill for just that one bit of state.\u001b[0m\u001b[0;34m\u001b[0m\u001b[0;34m\u001b[0m\u001b[0m\n\u001b[1;32m    186\u001b[0m     \u001b[0;32mdef\u001b[0m \u001b[0mmagic_deco\u001b[0m\u001b[0;34m(\u001b[0m\u001b[0marg\u001b[0m\u001b[0;34m)\u001b[0m\u001b[0;34m:\u001b[0m\u001b[0;34m\u001b[0m\u001b[0;34m\u001b[0m\u001b[0m\n\u001b[0;32m--> 187\u001b[0;31m         \u001b[0mcall\u001b[0m \u001b[0;34m=\u001b[0m \u001b[0;32mlambda\u001b[0m \u001b[0mf\u001b[0m\u001b[0;34m,\u001b[0m \u001b[0;34m*\u001b[0m\u001b[0ma\u001b[0m\u001b[0;34m,\u001b[0m \u001b[0;34m**\u001b[0m\u001b[0mk\u001b[0m\u001b[0;34m:\u001b[0m \u001b[0mf\u001b[0m\u001b[0;34m(\u001b[0m\u001b[0;34m*\u001b[0m\u001b[0ma\u001b[0m\u001b[0;34m,\u001b[0m \u001b[0;34m**\u001b[0m\u001b[0mk\u001b[0m\u001b[0;34m)\u001b[0m\u001b[0;34m\u001b[0m\u001b[0;34m\u001b[0m\u001b[0m\n\u001b[0m\u001b[1;32m    188\u001b[0m \u001b[0;34m\u001b[0m\u001b[0m\n\u001b[1;32m    189\u001b[0m         \u001b[0;32mif\u001b[0m \u001b[0mcallable\u001b[0m\u001b[0;34m(\u001b[0m\u001b[0marg\u001b[0m\u001b[0;34m)\u001b[0m\u001b[0;34m:\u001b[0m\u001b[0;34m\u001b[0m\u001b[0;34m\u001b[0m\u001b[0m\n",
            "\u001b[0;32m/usr/local/lib/python3.12/dist-packages/IPython/core/magics/execution.py\u001b[0m in \u001b[0;36mtimeit\u001b[0;34m(self, line, cell, local_ns)\u001b[0m\n\u001b[1;32m   1178\u001b[0m             \u001b[0;32mfor\u001b[0m \u001b[0mindex\u001b[0m \u001b[0;32min\u001b[0m \u001b[0mrange\u001b[0m\u001b[0;34m(\u001b[0m\u001b[0;36m0\u001b[0m\u001b[0;34m,\u001b[0m \u001b[0;36m10\u001b[0m\u001b[0;34m)\u001b[0m\u001b[0;34m:\u001b[0m\u001b[0;34m\u001b[0m\u001b[0;34m\u001b[0m\u001b[0m\n\u001b[1;32m   1179\u001b[0m                 \u001b[0mnumber\u001b[0m \u001b[0;34m=\u001b[0m \u001b[0;36m10\u001b[0m \u001b[0;34m**\u001b[0m \u001b[0mindex\u001b[0m\u001b[0;34m\u001b[0m\u001b[0;34m\u001b[0m\u001b[0m\n\u001b[0;32m-> 1180\u001b[0;31m                 \u001b[0mtime_number\u001b[0m \u001b[0;34m=\u001b[0m \u001b[0mtimer\u001b[0m\u001b[0;34m.\u001b[0m\u001b[0mtimeit\u001b[0m\u001b[0;34m(\u001b[0m\u001b[0mnumber\u001b[0m\u001b[0;34m)\u001b[0m\u001b[0;34m\u001b[0m\u001b[0;34m\u001b[0m\u001b[0m\n\u001b[0m\u001b[1;32m   1181\u001b[0m                 \u001b[0;32mif\u001b[0m \u001b[0mtime_number\u001b[0m \u001b[0;34m>=\u001b[0m \u001b[0;36m0.2\u001b[0m\u001b[0;34m:\u001b[0m\u001b[0;34m\u001b[0m\u001b[0;34m\u001b[0m\u001b[0m\n\u001b[1;32m   1182\u001b[0m                     \u001b[0;32mbreak\u001b[0m\u001b[0;34m\u001b[0m\u001b[0;34m\u001b[0m\u001b[0m\n",
            "\u001b[0;32m/usr/local/lib/python3.12/dist-packages/IPython/core/magics/execution.py\u001b[0m in \u001b[0;36mtimeit\u001b[0;34m(self, number)\u001b[0m\n\u001b[1;32m    167\u001b[0m         \u001b[0mgc\u001b[0m\u001b[0;34m.\u001b[0m\u001b[0mdisable\u001b[0m\u001b[0;34m(\u001b[0m\u001b[0;34m)\u001b[0m\u001b[0;34m\u001b[0m\u001b[0;34m\u001b[0m\u001b[0m\n\u001b[1;32m    168\u001b[0m         \u001b[0;32mtry\u001b[0m\u001b[0;34m:\u001b[0m\u001b[0;34m\u001b[0m\u001b[0;34m\u001b[0m\u001b[0m\n\u001b[0;32m--> 169\u001b[0;31m             \u001b[0mtiming\u001b[0m \u001b[0;34m=\u001b[0m \u001b[0mself\u001b[0m\u001b[0;34m.\u001b[0m\u001b[0minner\u001b[0m\u001b[0;34m(\u001b[0m\u001b[0mit\u001b[0m\u001b[0;34m,\u001b[0m \u001b[0mself\u001b[0m\u001b[0;34m.\u001b[0m\u001b[0mtimer\u001b[0m\u001b[0;34m)\u001b[0m\u001b[0;34m\u001b[0m\u001b[0;34m\u001b[0m\u001b[0m\n\u001b[0m\u001b[1;32m    170\u001b[0m         \u001b[0;32mfinally\u001b[0m\u001b[0;34m:\u001b[0m\u001b[0;34m\u001b[0m\u001b[0;34m\u001b[0m\u001b[0m\n\u001b[1;32m    171\u001b[0m             \u001b[0;32mif\u001b[0m \u001b[0mgcold\u001b[0m\u001b[0;34m:\u001b[0m\u001b[0;34m\u001b[0m\u001b[0;34m\u001b[0m\u001b[0m\n",
            "\u001b[0;32m<magic-timeit>\u001b[0m in \u001b[0;36minner\u001b[0;34m(_it, _timer)\u001b[0m\n",
            "\u001b[0;31mNameError\u001b[0m: name 'sp_dot__v1' is not defined"
          ]
        }
      ],
      "source": [
        "def decomp(d, n_max=None):\n",
        "    if n_max is None:\n",
        "        n_max = (max(d['inds']) if d['inds'] else 0) + 1\n",
        "    y = [0] * n_max\n",
        "    for i, v in zip(d['inds'], d['vals']):\n",
        "        y[i] += v\n",
        "    return y\n",
        "\n",
        "print(\"* Dense case...\")\n",
        "x = decomp(dx)\n",
        "y = decomp(dy)\n",
        "%timeit dot(x, y) # Could also try `dot__v2`\n",
        "\n",
        "print(\"\\n* Sparse dot, version 0...\")\n",
        "%timeit sp_dot__v0(dx, dy)\n",
        "\n",
        "print(\"\\n* Sparse dot, version 1...\")\n",
        "%timeit sp_dot__v1(dx, dy)"
      ]
    },
    {
      "cell_type": "markdown",
      "metadata": {
        "id": "EtCvTdC6hRZN"
      },
      "source": [
        "On small inputs, you can see the exact _opposite_ of what you might expect! That's because conversion to sets and construction or manipulation of lookup tables carries an overhead that outweights the benefits of sparse storage when the vectors are small.\n",
        "\n",
        "Instead, let's try large inputs. Here is a helper function to generate a large random sparse input vector:"
      ]
    },
    {
      "cell_type": "code",
      "execution_count": null,
      "metadata": {
        "id": "OiH4MUmUhRZN"
      },
      "outputs": [],
      "source": [
        "def gen_rand_sparse_vector(n=10, nnz=10, max_val=20, unique=True):\n",
        "    from random import randint, sample, random, shuffle\n",
        "    nnz_unique = nnz\n",
        "    vals_unique = [(i, randint(-max_val, max_val)) for i in sample(range(n), nnz)]\n",
        "    d_true = {'inds': [i for i, _ in sorted(vals_unique)],\n",
        "              'vals': [v for _, v in sorted(vals_unique)]}\n",
        "    if unique:\n",
        "        return d_true\n",
        "\n",
        "    vals = []\n",
        "    for i, v in vals_unique:\n",
        "        if random() < 0.2: # Duplicate!\n",
        "            n_dups = randint(2, 5)\n",
        "            vals += [(i, w) for w in partition_value(v, n_dups)]\n",
        "        else:\n",
        "            vals += [(i, v)]\n",
        "    shuffle(vals)\n",
        "    d_input = {'inds': [i for i, _ in vals],\n",
        "               'vals': [v for _, v in vals]}\n",
        "    return d_input"
      ]
    },
    {
      "cell_type": "markdown",
      "metadata": {
        "id": "hkgtfsIxhRZO"
      },
      "source": [
        "Let's use `gen_rand_sparse_vector` to generate random sparse input vectors of length 100,000 elements with 1,000 nonzeros each."
      ]
    },
    {
      "cell_type": "code",
      "execution_count": null,
      "metadata": {
        "id": "8pJEryEbhRZO",
        "outputId": "0b80ed4e-25dc-4752-9f9b-e3f23e25c717"
      },
      "outputs": [
        {
          "name": "stdout",
          "output_type": "stream",
          "text": [
            "* dx_big: 1000 nonzeros.\n",
            "* dy_big: 1000 nonzeros.\n",
            "* common indices: 11 nonzeros.\n"
          ]
        }
      ],
      "source": [
        "N = 100_000\n",
        "dx_big = gen_rand_sparse_vector(n=N, nnz=1_000)\n",
        "dy_big = gen_rand_sparse_vector(n=N, nnz=1_000)\n",
        "\n",
        "print(\"* dx_big:\", len(dx_big['inds']), \"nonzeros.\")\n",
        "print(\"* dy_big:\", len(dx_big['inds']), \"nonzeros.\")\n",
        "print(\"* common indices:\", len(common_inds(dx_big, dy_big)), \"nonzeros.\")"
      ]
    },
    {
      "cell_type": "markdown",
      "metadata": {
        "id": "QaMzvVbbhRZP"
      },
      "source": [
        "Let's try first converting to dense vectors:"
      ]
    },
    {
      "cell_type": "code",
      "execution_count": null,
      "metadata": {
        "id": "vl_bSrMZhRZZ",
        "outputId": "d425e7f2-5f22-49c8-e20d-085d9389ab34"
      },
      "outputs": [
        {
          "name": "stdout",
          "output_type": "stream",
          "text": [
            "-449\n",
            "6.53 ms ± 59.7 µs per loop (mean ± std. dev. of 7 runs, 100 loops each)\n"
          ]
        }
      ],
      "source": [
        "x_big = decomp(dx_big, n_max=N)\n",
        "y_big = decomp(dy_big, n_max=N)\n",
        "print(dot(x_big, y_big)) # note the \"correct\" answer\n",
        "%timeit dot(x_big, y_big)"
      ]
    },
    {
      "cell_type": "markdown",
      "metadata": {
        "id": "OHpkomldhRZZ"
      },
      "source": [
        "Now let's try our two sparse methods:"
      ]
    },
    {
      "cell_type": "code",
      "execution_count": null,
      "metadata": {
        "id": "ijz87u97hRZa",
        "outputId": "3c687db9-a3be-4eca-b672-e4fe0012ef3e"
      },
      "outputs": [
        {
          "name": "stdout",
          "output_type": "stream",
          "text": [
            "-449\n",
            "194 µs ± 3.98 µs per loop (mean ± std. dev. of 7 runs, 1000 loops each)\n",
            "-449\n",
            "451 µs ± 13.1 µs per loop (mean ± std. dev. of 7 runs, 1000 loops each)\n"
          ]
        }
      ],
      "source": [
        "print(sp_dot__v0(dx_big, dy_big)) # check answer against the dense case\n",
        "%timeit sp_dot__v0(dx_big, dy_big)\n",
        "\n",
        "print(sp_dot__v1(dx_big, dy_big)) # check answer\n",
        "%timeit sp_dot__v1(dx_big, dy_big)"
      ]
    },
    {
      "cell_type": "markdown",
      "metadata": {
        "id": "At_wL_cghRZa"
      },
      "source": [
        "You should observe these to be much faster now."
      ]
    },
    {
      "cell_type": "markdown",
      "metadata": {
        "id": "tQ2bkhwZhRZa"
      },
      "source": [
        "## Default dictionaries ##"
      ]
    },
    {
      "cell_type": "markdown",
      "metadata": {
        "id": "sZNsPKtDhRZb"
      },
      "source": [
        "The `gen_lookup` function contained an instance of a common pattern with dictionaries:\n",
        "\n",
        "```python\n",
        "    t = {}\n",
        "    for i in ...:\n",
        "        if i not in t:\n",
        "            t[i] = 0\n",
        "        t[i] += ...\n",
        "```\n",
        "\n",
        "Before accumulating `t[i]`, the code verifies that the key `i` exists. If it does not, it first creates an \"empty\" entry, initialized to zero, and then does the accumulate."
      ]
    },
    {
      "cell_type": "markdown",
      "metadata": {
        "id": "43hq5vduhRZb"
      },
      "source": [
        "**Example:** Suppose we wish to count the number of occurrences of a character in a string."
      ]
    },
    {
      "cell_type": "code",
      "execution_count": 33,
      "metadata": {
        "id": "oKo7HLUWhRZb"
      },
      "outputs": [],
      "source": [
        "s = \"bbbaaaabaaa\""
      ]
    },
    {
      "cell_type": "markdown",
      "metadata": {
        "id": "zTMGIbAMhRZc"
      },
      "source": [
        "In this case, `'a'` occurs 7 times and `'b'` occurs 4 times. Let's say we want to construct a dictionary `count` such that `count['a'] == 7` and `count['b'] == 4`."
      ]
    },
    {
      "cell_type": "markdown",
      "metadata": {
        "id": "rgV6nt7VhRZc"
      },
      "source": [
        "The following code does _not_ work! Try uncommenting it to see:"
      ]
    },
    {
      "cell_type": "code",
      "execution_count": null,
      "metadata": {
        "id": "C7r9NV_6hRZc"
      },
      "outputs": [],
      "source": [
        "#count = {}\n",
        "#for c in s:\n",
        "#    count[c] += 1\n",
        "#count"
      ]
    },
    {
      "cell_type": "markdown",
      "metadata": {
        "id": "QBO0rU0uhRZd"
      },
      "source": [
        "Instead, we need something like the following:"
      ]
    },
    {
      "cell_type": "code",
      "execution_count": 34,
      "metadata": {
        "id": "ysHx8EcGhRZd",
        "outputId": "01b8fafb-74d7-4d8e-8989-0fb15132dede",
        "colab": {
          "base_uri": "https://localhost:8080/"
        }
      },
      "outputs": [
        {
          "output_type": "execute_result",
          "data": {
            "text/plain": [
              "{'b': 4, 'a': 7}"
            ]
          },
          "metadata": {},
          "execution_count": 34
        }
      ],
      "source": [
        "count = {}\n",
        "for c in s:\n",
        "    if c not in count:\n",
        "        count[c] = 0\n",
        "    assert c in count\n",
        "    count[c] += 1\n",
        "count"
      ]
    },
    {
      "cell_type": "markdown",
      "metadata": {
        "id": "t9zUIjVNhRZd"
      },
      "source": [
        "Default dictionaries give us a way to simplify this code:"
      ]
    },
    {
      "cell_type": "code",
      "execution_count": 37,
      "metadata": {
        "id": "7_Xkvv1whRZd",
        "outputId": "42df7ae4-c99c-41b1-fc78-7d90a17c901d",
        "colab": {
          "base_uri": "https://localhost:8080/"
        }
      },
      "outputs": [
        {
          "output_type": "execute_result",
          "data": {
            "text/plain": [
              "defaultdict(int, {'b': 4, 'a': 7})"
            ]
          },
          "metadata": {},
          "execution_count": 37
        }
      ],
      "source": [
        "from collections import defaultdict\n",
        "count = defaultdict(int)\n",
        "\n",
        "for c in s:\n",
        "    count[c] += 1\n",
        "count"
      ]
    },
    {
      "cell_type": "markdown",
      "metadata": {
        "id": "-wH8FV1EhRZe"
      },
      "source": [
        "The `defaultdict(...)` constructor is another example of a higher-order function: its single argument is a _function_. The function must have the property that when it is called with no inputs it produces a value as its output, where the value may be considered an initial value for nonexistent keys.\n",
        "\n",
        "For instance, recall:"
      ]
    },
    {
      "cell_type": "code",
      "execution_count": null,
      "metadata": {
        "id": "ZlcLMkMshRZf",
        "outputId": "e71dcdf8-c5cc-472c-8161-78709f581240"
      },
      "outputs": [
        {
          "data": {
            "text/plain": [
              "0"
            ]
          },
          "execution_count": 24,
          "metadata": {},
          "output_type": "execute_result"
        }
      ],
      "source": [
        "int()"
      ]
    },
    {
      "cell_type": "markdown",
      "metadata": {
        "id": "nAml0CophRZf"
      },
      "source": [
        "Therefore, the `defaultdict(int)` object will use `int()` whenever it needs a new initial value.\n",
        "\n",
        "> The other basic built-in Python objects have a similar property. Try `float()`, `str()`, `list()`, `set()`, and even `dict()`."
      ]
    },
    {
      "cell_type": "markdown",
      "metadata": {
        "id": "81lauRAmhRZg"
      },
      "source": [
        "A major pitfall with default dictionaries is that even just referencing a key causes it to be created. Example:"
      ]
    },
    {
      "cell_type": "code",
      "execution_count": null,
      "metadata": {
        "id": "dLsncmbQhRZg",
        "outputId": "bcd7737b-ab1c-4ba6-e425-8e041fc39979"
      },
      "outputs": [
        {
          "name": "stdout",
          "output_type": "stream",
          "text": [
            "defaultdict(<class 'int'>, {'b': 4, 'a': 7})\n",
            "defaultdict(<class 'int'>, {'b': 4, 'a': 7, 'abc': 0})\n"
          ]
        }
      ],
      "source": [
        "print(count)\n",
        "count['abc']  # Not doing anything here — not assigning, not using\n",
        "print(count)"
      ]
    },
    {
      "cell_type": "markdown",
      "metadata": {
        "id": "Itubja9ehRZh"
      },
      "source": [
        "That can lead to blow-ups in storage (and time!). So, do be careful not to reference keys unnecessarily."
      ]
    },
    {
      "cell_type": "markdown",
      "metadata": {
        "id": "Jty13WmghRZh"
      },
      "source": [
        "**An alternative: `dict.get`.** Default dictionaries aren't the only way. Recall that if `d` is a dictionary, then `d.get(key, default_value)` will return `default_value` if `key` does not exist in `d`:"
      ]
    },
    {
      "cell_type": "code",
      "execution_count": null,
      "metadata": {
        "id": "blKCMHadhRZh",
        "outputId": "339a6254-9ebf-4c53-c3a0-e42a315e1dc7"
      },
      "outputs": [
        {
          "data": {
            "text/plain": [
              "(False, 0, 7)"
            ]
          },
          "execution_count": 26,
          "metadata": {},
          "output_type": "execute_result"
        }
      ],
      "source": [
        "'x' in count, count.get('x', 0), count.get('a', 0)"
      ]
    },
    {
      "cell_type": "markdown",
      "metadata": {
        "id": "f2rZ5N4uhRZi"
      },
      "source": [
        "Thus:"
      ]
    },
    {
      "cell_type": "code",
      "execution_count": 36,
      "metadata": {
        "id": "p0x_QamChRZi",
        "outputId": "874ed1ba-2c5c-4baa-c87f-bd669d4bd4d1",
        "colab": {
          "base_uri": "https://localhost:8080/"
        }
      },
      "outputs": [
        {
          "output_type": "execute_result",
          "data": {
            "text/plain": [
              "{'b': 4, 'a': 7}"
            ]
          },
          "metadata": {},
          "execution_count": 36
        }
      ],
      "source": [
        "count = {}\n",
        "for c in s:\n",
        "    count[c] = count.get(c, 0) + 1\n",
        "count"
      ]
    },
    {
      "cell_type": "markdown",
      "metadata": {
        "id": "s0ShZ9ZYhRZi"
      },
      "source": [
        "**Exercise:** What does this code produce?"
      ]
    },
    {
      "cell_type": "code",
      "execution_count": 38,
      "metadata": {
        "id": "gRaLgkzlhRZj",
        "outputId": "67063e1d-07db-412d-ff3c-5c65611ef46c",
        "colab": {
          "base_uri": "https://localhost:8080/"
        }
      },
      "outputs": [
        {
          "output_type": "execute_result",
          "data": {
            "text/plain": [
              "defaultdict(<function __main__.default_value()>, {'b': -16, 'a': -13})"
            ]
          },
          "metadata": {},
          "execution_count": 38
        }
      ],
      "source": [
        "def default_value():\n",
        "    return -20\n",
        "\n",
        "count2 = defaultdict(default_value)\n",
        "for c in s:\n",
        "    count2[c] += 1\n",
        "count2"
      ]
    },
    {
      "cell_type": "markdown",
      "metadata": {
        "id": "gyBTDuk2hRZj"
      },
      "source": [
        "**Aside: Another alternative, `Counter` objects.** The `collections` module implements many useful objects and functions. One is `Counter`, which does exactly what we need in our letter-counting problem."
      ]
    },
    {
      "cell_type": "code",
      "execution_count": null,
      "metadata": {
        "id": "MXEpP6gVhRZj",
        "outputId": "08925346-2266-4cd7-aa49-80e37ab5cf65"
      },
      "outputs": [
        {
          "data": {
            "text/plain": [
              "Counter({'b': 4, 'a': 7})"
            ]
          },
          "execution_count": 29,
          "metadata": {},
          "output_type": "execute_result"
        }
      ],
      "source": [
        "from collections import Counter\n",
        "Counter(s)"
      ]
    },
    {
      "cell_type": "code",
      "execution_count": null,
      "metadata": {
        "id": "xBWW-DhQhRZk",
        "outputId": "53ca1a14-9eb5-428e-b2c3-86eef719d1c5"
      },
      "outputs": [
        {
          "data": {
            "text/plain": [
              "True"
            ]
          },
          "execution_count": 30,
          "metadata": {},
          "output_type": "execute_result"
        }
      ],
      "source": [
        "isinstance(Counter(s), dict)"
      ]
    },
    {
      "cell_type": "markdown",
      "metadata": {
        "id": "7fV2_VIMhRZm"
      },
      "source": [
        "Although `Counter` constructs a special object of that type, in fact, it is derived from a dictionary so it can be used as such."
      ]
    },
    {
      "cell_type": "markdown",
      "metadata": {
        "id": "oRUKopVKhRZm"
      },
      "source": [
        "## Teaser for Notebook 4 ##\n",
        "\n",
        "See this [Google Colab notebook](https://colab.research.google.com/drive/1-MlOoW5y2TznOm_LmBjlArjbkwvMrykJ?usp=sharing) and observe how two computations that should produce identical answers appear to be ever so slightly different. The question we closed with is, are you okay with that? How would you know?"
      ]
    },
    {
      "cell_type": "markdown",
      "metadata": {
        "id": "yG2JtCdJhRZm"
      },
      "source": [
        "## Summary ##\n",
        "\n",
        "1. From nb1.1.3, remember your analytical goal, which is to strive for linear time methods.\n",
        "2. In the sparse dot product problem, a judicious combination of the right data structures helped to achieve efficient code, at least for large-enough inputs.\n",
        "3. Default dictionaries help address a common pattern with dictionaries, which is creating a key with a default value when the key does not exist. There are alternatives, too, so keep them in mind.\n",
        "4. The next homework (Notebook 4) will be about floating-point arithmetic. It will help answer some fundamental questions, namely, how do we represent real numbers in a finite (i.e., efficient) way on a computer, and how do we reason about the correctness of programs that manipulate such numbers?"
      ]
    }
  ],
  "metadata": {
    "celltoolbar": "Slideshow",
    "kernelspec": {
      "display_name": "Python 3",
      "language": "python",
      "name": "python3"
    },
    "language_info": {
      "codemirror_mode": {
        "name": "ipython",
        "version": 3
      },
      "file_extension": ".py",
      "mimetype": "text/x-python",
      "name": "python",
      "nbconvert_exporter": "python",
      "pygments_lexer": "ipython3",
      "version": "3.8.5"
    },
    "toc": {
      "base_numbering": 1,
      "nav_menu": {},
      "number_sections": true,
      "sideBar": true,
      "skip_h1_title": false,
      "title_cell": "Table of Contents",
      "title_sidebar": "Contents",
      "toc_cell": false,
      "toc_position": {},
      "toc_section_display": true,
      "toc_window_display": false
    },
    "colab": {
      "provenance": [],
      "include_colab_link": true
    }
  },
  "nbformat": 4,
  "nbformat_minor": 0
}