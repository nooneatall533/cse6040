{
  "cells": [
    {
      "cell_type": "markdown",
      "metadata": {
        "id": "view-in-github",
        "colab_type": "text"
      },
      "source": [
        "<a href=\"https://colab.research.google.com/github/nooneatall533/cse6040/blob/main/practice_exercises/music_album_rankings_2_working_v2.ipynb\" target=\"_parent\"><img src=\"https://colab.research.google.com/assets/colab-badge.svg\" alt=\"Open In Colab\"/></a>"
      ]
    },
    {
      "cell_type": "markdown",
      "id": "5dda78ce",
      "metadata": {
        "nbgrader": {
          "grade": false,
          "locked": true,
          "solution": false
        },
        "tags": [
          "notebook_header"
        ],
        "id": "5dda78ce"
      },
      "source": [
        "# Bootcamp Practice Notebooks:  Music Album Rankings Analysis\n",
        "\n",
        "## Notebook 2:  Basic Exploratory Data Analysis, 1-Point exercises"
      ]
    },
    {
      "cell_type": "markdown",
      "id": "4d58b4a0",
      "metadata": {
        "nbgrader": {
          "grade": false,
          "locked": true,
          "solution": false
        },
        "tags": [
          "topic_intro"
        ],
        "id": "4d58b4a0"
      },
      "source": [
        " # Overview: Music Album Rankings #\n",
        "\n",
        "`Rolling Stone` magazine is an American monthly magazine that focuses on music, politics, and popular culture. It was founded in San Francisco, California in 1967 and still publishes monthly to this day. The magazine is known for its coverage of music, entertainment, and politics.\n",
        "\n",
        "In 2003, the magazine released its `“500 Greatest Albums of All Time,”` placing the Beatles’ “Sgt. Pepper’s Lonely Hearts Club Band” in the top slot. It has since released two additional `\"500 Greatest\"` lists, in 2012 and 2020. While not necessary for this analysis, to gain a full understanding of these rankings, see this Wikipedia article:  https://en.wikipedia.org/wiki/Rolling_Stone%27s_500_Greatest_Albums_of_All_Time\n",
        "\n"
      ]
    },
    {
      "cell_type": "markdown",
      "id": "438ee3df",
      "metadata": {
        "nbgrader": {
          "grade": false,
          "locked": true,
          "solution": false
        },
        "id": "438ee3df"
      },
      "source": [
        "# Setup and Data Load\n",
        "\n",
        "To get started, run the following code cells. They will load the data files and populate the `voters` and `albums` datasets that you will be working with."
      ]
    },
    {
      "cell_type": "code",
      "execution_count": 16,
      "id": "1a6fd3ef-073d-4d35-a565-066035d79eec",
      "metadata": {
        "id": "1a6fd3ef-073d-4d35-a565-066035d79eec",
        "colab": {
          "base_uri": "https://localhost:8080/"
        },
        "outputId": "77f1d356-c76d-4f32-f163-eb4f1984f8b2"
      },
      "outputs": [
        {
          "output_type": "stream",
          "name": "stdout",
          "text": [
            "--2025-08-28 23:24:07--  https://github.com/gt-cse-6040/bootcamp/raw/main/practice_exercises/voters.json\n",
            "Resolving github.com (github.com)... 140.82.121.3\n",
            "Connecting to github.com (github.com)|140.82.121.3|:443... connected.\n",
            "HTTP request sent, awaiting response... 302 Found\n",
            "Location: https://raw.githubusercontent.com/gt-cse-6040/bootcamp/main/practice_exercises/voters.json [following]\n",
            "--2025-08-28 23:24:08--  https://raw.githubusercontent.com/gt-cse-6040/bootcamp/main/practice_exercises/voters.json\n",
            "Resolving raw.githubusercontent.com (raw.githubusercontent.com)... 185.199.108.133, 185.199.109.133, 185.199.110.133, ...\n",
            "Connecting to raw.githubusercontent.com (raw.githubusercontent.com)|185.199.108.133|:443... connected.\n",
            "HTTP request sent, awaiting response... 200 OK\n",
            "Length: 328847 (321K) [text/plain]\n",
            "Saving to: ‘voters.json.1’\n",
            "\n",
            "voters.json.1       100%[===================>] 321.14K  --.-KB/s    in 0.02s   \n",
            "\n",
            "2025-08-28 23:24:08 (16.0 MB/s) - ‘voters.json.1’ saved [328847/328847]\n",
            "\n",
            "--2025-08-28 23:24:08--  https://github.com/gt-cse-6040/bootcamp/raw/main/practice_exercises/Rolling_Stone_500_public.json\n",
            "Resolving github.com (github.com)... 140.82.121.3\n",
            "Connecting to github.com (github.com)|140.82.121.3|:443... connected.\n",
            "HTTP request sent, awaiting response... 302 Found\n",
            "Location: https://raw.githubusercontent.com/gt-cse-6040/bootcamp/main/practice_exercises/Rolling_Stone_500_public.json [following]\n",
            "--2025-08-28 23:24:08--  https://raw.githubusercontent.com/gt-cse-6040/bootcamp/main/practice_exercises/Rolling_Stone_500_public.json\n",
            "Resolving raw.githubusercontent.com (raw.githubusercontent.com)... 185.199.111.133, 185.199.110.133, 185.199.108.133, ...\n",
            "Connecting to raw.githubusercontent.com (raw.githubusercontent.com)|185.199.111.133|:443... connected.\n",
            "HTTP request sent, awaiting response... 200 OK\n",
            "Length: 714833 (698K) [text/plain]\n",
            "Saving to: ‘Rolling_Stone_500_public.json.1’\n",
            "\n",
            "Rolling_Stone_500_p 100%[===================>] 698.08K  --.-KB/s    in 0.02s   \n",
            "\n",
            "2025-08-28 23:24:08 (34.0 MB/s) - ‘Rolling_Stone_500_public.json.1’ saved [714833/714833]\n",
            "\n"
          ]
        }
      ],
      "source": [
        "!wget https://github.com/gt-cse-6040/bootcamp/raw/main/practice_exercises/voters.json\n",
        "!wget https://github.com/gt-cse-6040/bootcamp/raw/main/practice_exercises/Rolling_Stone_500_public.json"
      ]
    },
    {
      "cell_type": "code",
      "execution_count": 17,
      "id": "13a71351",
      "metadata": {
        "id": "13a71351"
      },
      "outputs": [],
      "source": [
        "import json\n",
        "\n",
        "with open(\"voters.json\", \"r\") as read_file:\n",
        "    voters = json.load(read_file)\n",
        "read_file.close()\n",
        "\n",
        "with open(\"Rolling_Stone_500_public.json\", \"r\") as read_file:\n",
        "    albums = json.load(read_file)\n",
        "read_file.close()"
      ]
    },
    {
      "cell_type": "markdown",
      "id": "0776c5b6-5f9a-4d64-8a6f-1f85ed22505b",
      "metadata": {
        "id": "0776c5b6-5f9a-4d64-8a6f-1f85ed22505b"
      },
      "source": [
        "# Ex. 0 (**1 point**): `number_albums` #\n",
        "\n",
        "Given a list of dictionaries, `albums_list`, complete the function,\n",
        "```python\n",
        "def number_albums(albums_list, year):\n",
        "    ...\n",
        "```\n",
        "so that it returns the number of albums in the `albums_list` variable that were ranked, for the year passed in.\n",
        "\n",
        "**Input:**\n",
        "- A list of dictionaries, `albums_list`. It will have the same format as the `albums` variable above. For testing, it may or may not contain all of the values in the variable, so your code must account for a different number of albums to be in your input.\n",
        "- An integer, `year`. This will be the year for which you will compute the number of albums in the list. It will align with the values in the `####_Rank` key value.\n",
        "\n",
        "**Your task:** Copy this list and output the count of albums that year in the variable:\n",
        "\n",
        "**Output:** Return a tuple, without modifying the input `albums_list`. The tuple should contain the the following pair values:\n",
        "- `'YEAR'` --  String. This is the value passed into the function.  \n",
        "- `'COUNT'` -- Integer. This is the count of `albums` for that year.\n",
        "\n",
        "**Caveat(s)/comment(s)/hint(s):**\n",
        "1. The list of dictionaries passed into the function may have albums from multiple years, but the function should only return the required count of albums that were ranked, for the year that is passed into it.\n",
        "\n",
        "2. Ensure that your data types are correct, as the data types input may not always be the same as what you need to output.\n",
        "\n",
        "3. The values in the variables `2003_Rank`, `2012_Rank`, and `2020_Rank` will be useful in this exercise.\n",
        "\n",
        "- While the year is passed in, students will need to convert/map the year to the appropriate dictionary variable.\n",
        "- If the album was ranked for that year, it will have an string value of the rank. If not, the value will be an empty string."
      ]
    },
    {
      "cell_type": "code",
      "execution_count": 18,
      "id": "e9759629-76b4-4e18-b95c-df69e8beb501",
      "metadata": {
        "id": "e9759629-76b4-4e18-b95c-df69e8beb501"
      },
      "outputs": [],
      "source": [
        "# Run this cell, to populate the demo data for the student to work with\n",
        "albums_list = albums\n",
        "albums_list_ex0_demo = albums[0:100]\n",
        "year = '2003'"
      ]
    },
    {
      "cell_type": "markdown",
      "id": "6a9d10ed-e7c5-46a6-9562-3ae7cb2038ef",
      "metadata": {
        "id": "6a9d10ed-e7c5-46a6-9562-3ae7cb2038ef"
      },
      "source": [
        "#### A properly-code function will return the following tuple, for the demo data:\n",
        "\n",
        "('2003', 40)"
      ]
    },
    {
      "cell_type": "code",
      "execution_count": 23,
      "id": "86846a57",
      "metadata": {
        "id": "86846a57",
        "colab": {
          "base_uri": "https://localhost:8080/",
          "height": 52
        },
        "outputId": "5ceef4ea-758a-42e3-a1ce-348dcbbfe55d"
      },
      "outputs": [
        {
          "output_type": "display_data",
          "data": {
            "text/plain": [
              "('2003', 40)"
            ]
          },
          "metadata": {}
        },
        {
          "output_type": "stream",
          "name": "stdout",
          "text": [
            "passed demo data\n"
          ]
        }
      ],
      "source": [
        "### Exercise 0 solution -- 1 point ###\n",
        "def number_albums(albums_list,year):\n",
        "    ### YOUR CODE HERE\n",
        "    import copy\n",
        "    album_lists_copy = copy.deepcopy(albums_list)\n",
        "    year_variable = year + \"_Rank\"\n",
        "    counter = 0\n",
        "    for album in album_lists_copy:\n",
        "      if album[year_variable] != '':\n",
        "        counter += 1\n",
        "\n",
        "    return_tuple = (year, counter)\n",
        "    return return_tuple\n",
        "\n",
        "### demo function call ###\n",
        "result = number_albums(albums_list_ex0_demo, '2003')\n",
        "display(result)\n",
        "assert result == ('2003', 40), 'Demo data does not pass.'\n",
        "print('passed demo data')"
      ]
    },
    {
      "cell_type": "code",
      "execution_count": null,
      "id": "b06febc1-134d-416f-9ce2-0aec37a4a201",
      "metadata": {
        "id": "b06febc1-134d-416f-9ce2-0aec37a4a201"
      },
      "outputs": [],
      "source": [
        "# test cell\n",
        "# Run this cell to test if your code is correct\n",
        "albums_list_1 = albums_list[150:250]\n",
        "assert number_albums(albums_list_1,'2003') == ('2003',86), \"Your function does not return the correct number of albums in the albums_list variable for 2003.\"\n",
        "assert number_albums(albums_list_1,'2012') == ('2012',84), \"Your function does not return the correct number of albums in the albums_list variable for 2012.\"\n",
        "assert number_albums(albums_list_1,'2020') == ('2020',74), \"Your function does not return the correct number of albums in the albums_list variable for 2020.\"\n",
        "print(\"Passed\")"
      ]
    },
    {
      "cell_type": "markdown",
      "id": "52cdd4d8-d534-43e4-bf5e-1dd711b7a006",
      "metadata": {
        "id": "52cdd4d8-d534-43e4-bf5e-1dd711b7a006"
      },
      "source": [
        "# Ex. 1 (**1 point**): `unique_artists` #\n",
        "\n",
        "Given a list of dictionaries, `albums_list`, complete the function,\n",
        "```python\n",
        "def unique_artists(albums_list):\n",
        "    ...\n",
        "```\n",
        "so that it returns the number of unique artistis in the `albums_list` variable, whose albums were ranked in one (or more) of the year lists.\n",
        "\n",
        "**Input:**\n",
        "- A list of dictionaries, `albums_list`. It will have the same format as the `albums` variable above. For testing, it may or may not contain all of the values in the variable, so your code must account for a different number of albums to be in your input.\n",
        "\n",
        "**Your task:** Copy this list and output the count of unique artists in the variable:\n",
        "\n",
        "**Output:** Return an integer, without modifying the input `albums_list`. The integer will be the number of unique artists in the `albums_list` variable passed into the function.\n",
        "\n",
        "**Caveat(s)/comment(s)/hint(s):**\n",
        "1. The list of dictionaries passed into the function may have albums from multiple years. It may or may not be the complete list of albums.\n",
        "\n",
        "2. There are two fields for the artist name for each album, `Sort_Name` and `Clean_Name`. Students may want to consult the data dictionary, provided in Notebook 0 of this series, to determine which of these two variables they will want to use.\n",
        "\n",
        "3. For the entire list, there are `386` unique artists."
      ]
    },
    {
      "cell_type": "code",
      "execution_count": 34,
      "id": "5ef35634-a45f-4393-aa90-5b6246baacd2",
      "metadata": {
        "id": "5ef35634-a45f-4393-aa90-5b6246baacd2"
      },
      "outputs": [],
      "source": [
        "# Run this cell, to populate the demo data for the student to work with\n",
        "albums_list = albums\n",
        "albums_list_ex1_demo = albums[0:100]"
      ]
    },
    {
      "cell_type": "markdown",
      "id": "ea2c17dc-6b98-49e8-b21e-c65dcb6a6d1f",
      "metadata": {
        "id": "ea2c17dc-6b98-49e8-b21e-c65dcb6a6d1f"
      },
      "source": [
        "#### A properly-code function will return the following value, for the demo data:\n",
        "\n",
        "78"
      ]
    },
    {
      "cell_type": "code",
      "execution_count": 48,
      "id": "03b86e6f",
      "metadata": {
        "id": "03b86e6f",
        "colab": {
          "base_uri": "https://localhost:8080/",
          "height": 124
        },
        "outputId": "a3f7185d-54f6-49c9-9600-ee5fa630bf9e"
      },
      "outputs": [
        {
          "output_type": "stream",
          "name": "stdout",
          "text": [
            "[['Frank Sinatra'], ['Bo Diddley'], ['Elvis Presley'], ['Frank Sinatra'], ['Little Richard'], ['Beyonce'], ['Amy Winehouse'], ['Buddy Holly'], ['Kate Bush'], ['Miles Davis'], ['John Coltrane'], ['Beyonce'], ['Ornette Coleman'], ['Erykah Badu'], ['Missy Elliott'], [\"Howlin' Wolf\"], ['Taylor Swift'], ['Fiona Apple'], ['Ray Charles'], ['Janet Jackson'], ['Etta James'], ['Joni Mitchell'], ['Adele'], ['Muddy Waters'], ['Miles Davis'], ['Aretha Franklin'], ['Erykah Badu'], ['Robert Johnson'], ['Sleater-Kinney'], ['Bobby \"Blue\" Bland'], ['Robyn'], ['Sade'], ['Bjork'], ['Nina Simone'], ['Fiona Apple'], ['Ray Charles'], [\"Howlin' Wolf\"], ['The Chicks'], ['James Brown'], ['Rihanna'], ['Tori Amos'], ['Sade'], ['Bob Dylan'], ['The Beatles'], ['Phil Spector'], ['Joni Mitchell'], ['The Beatles'], ['Kacey Musgraves'], ['Mary J. Blige'], ['Alicia Keys'], ['Donna Summer'], ['The Ronettes'], [\"Destiny's Child\"], ['Shania Twain'], ['Solange'], ['PJ Harvey'], ['Aaliyah'], ['Rosalia'], ['Billie Holiday'], ['The Beatles'], ['Lana Del Ray'], ['The Beatles'], ['Muddy Waters'], ['Gillian Welch'], ['Aretha Franklin'], ['Mariah Carey'], ['Kelis'], ['Taylor Swift'], ['Diana Ross'], ['Billie EIlish'], ['The Raincoats'], ['Getz & Gilberto'], ['Anita Baker'], ['M.I.A.'], ['Lucinda Williams'], ['Loretta Lynn'], ['Britney Spears'], ['Fiona Apple'], ['Alice Coltrane'], ['Roberta Flack'], ['Bob Dylan'], ['The Beatles'], ['Lorde'], ['Laura Nyro'], ['SZA'], ['Sheryl Crow'], ['Selena'], ['Miranda Lambert'], ['Lady Gaga'], ['John Coltrane'], ['Otis Redding'], ['Bob Dylan'], ['Shakira'], ['The Beatles'], ['The Byrds'], ['B.B. King'], ['The Beach Boys'], ['Rolling Stones'], ['Rolling Stones'], ['The Who'], ['The Yardbirds'], ['Paul Butterfield Blues Band'], ['The Beach Boys'], ['The Beatles'], ['Kanye West'], ['Bob Dylan'], ['Kendrick Lamar'], ['Rolling Stones'], ['Otis Redding'], ['Cream'], ['John Mayall & the Bluesbreakers'], ['Simon & Garfunkel'], ['The Mothers of Invention'], ['The Yardbirds'], ['The Who'], ['Smokey Robinson & the Miracles'], ['The Mamas and the Papas'], ['Aretha Franklin'], ['The Beatles'], ['Jimi Hendrix Experience'], ['The Doors'], ['Jimi Hendrix Experience'], ['Cream'], ['Love'], ['Pink Floyd'], ['The Who'], ['Bob Dylan'], ['The Kinks'], ['Moby Grape'], ['The Byrds'], ['OutKast'], ['Buffalo Springfield'], ['Little Walter'], ['Rolling Stones'], ['The Doors'], ['Otis Redding'], ['Merle Haggard'], ['Albert King'], ['The Byrds'], ['The Velvet Underground'], ['Jefferson Airplane'], ['Aretha Franklin'], ['The Beatles'], ['Jimi Hendrix Experience'], ['Van Morrison'], ['The Band'], ['Johnny Cash'], ['Rolling Stones'], ['The Zombies'], ['The Byrds'], ['Dr. John'], ['Kanye West'], ['The Kinks'], ['Otis Redding'], ['The Byrds'], ['Frank Ocean'], ['Cream'], ['Simon & Garfunkel'], ['Blood, Sweat & Tears'], ['Grateful Dead'], ['The Mothers of Invention'], ['The Drifters'], ['The Velvet Underground'], ['Big Brother & the Holding Company'], ['Dusty Springfield'], ['The Beatles'], ['Drake'], ['Rolling Stones'], ['The Band'], ['Led Zeppelin'], ['Led Zeppelin'], ['Crosby, Stills & Nash'], ['The Who'], ['Creedence Clearwater Revival'], ['Elvis Presley'], ['MC5'], ['Neil Young'], ['The Flying Burrito Brothers'], ['The Stooges'], ['Captain Beefheart & His Magic Band'], ['Kendrick Lamar'], ['Creedence Clearwater Revival'], ['Kanye West'], ['Santana'], ['Quicksilver Messenger Service'], ['Grateful Dead'], ['Nick Drake'], ['Sly & The Family Stone'], ['The Velvet Underground'], ['Jefferson Airplane'], ['John Lennon'], ['Miles Davis'], ['Neil Young'], ['The Stooges'], ['Van Morrison'], ['Black Sabbath'], ['Simon & Garfunkel'], ['James Taylor'], ['Cat Stevens'], ['Grateful Dead'], ['Crosby, Stills, Nash & Young'], ['Derek and the Dominos'], ['Frank Ocean'], ['The Who'], ['Santana'], ['The Beatles'], ['Jay-Z'], ['Black Sabbath'], ['George Harrison'], ['Grateful Dead'], ['Creedence Clearwater Revival'], ['The Meters'], ['Randy Newman'], ['The Beach Boys'], ['MC5'], ['Elton John'], ['Elton John'], ['Robert Johnson'], ['The Velvet Underground'], ['Sly & The Family Stone'], ['The Carpenters'], ['Joni Mitchell'], ['Carole King'], ['Kendrick Lamar'], ['Dolly Parton'], ['Janis Joplin'], ['Marvin Gaye'], ['Led Zeppelin'], ['The Who'], ['David Bowie'], ['Rolling Stones'], [\"D'Angelo\"], ['The Allman Brothers Band'], ['Funkadelic'], ['Ice Cube'], ['John Prince'], ['Rod Stewart'], ['T. Rex'], ['John Lennon'], ['Black Sabbath'], ['Leonard Cohen'], ['Nick Drake'], ['Jethro Tull'], ['A Tribe Called Quest'], ['The Doors'], ['Kanye West'], ['Alice Cooper'], ['Sly & The Family Stone'], ['Rolling Stones'], ['Lil Wayne'], ['David Bowie'], ['Stevie Wonder'], ['Joy Division'], ['Tom Petty'], ['Neil Young'], ['Elliott Smith'], ['Oasis'], ['Raekwon'], ['Curtis Mayfield'], ['Lou Reed'], ['Steely Dan'], ['Wilco'], ['Jimmy Cliff'], ['Nick Drake'], ['De La Soul'], ['Eagles'], ['Elton John'], ['Randy Newman'], ['Al Green'], ['Daft Punk'], ['Stevie Wonder'], ['Todd Rundgren'], ['Paul Simon'], ['Big Star'], ['Professor Longhair'], ['Kanye West'], ['LL Cool J'], ['Green Day'], ['The Kinks'], [\"The O'Jays\"], ['Dr. John'], ['War'], ['Herbie Hancock'], ['Mott the Hoople'], ['Beastie Boys'], ['New Order'], ['Simon & Garfunkel'], ['Stevie Wonder'], ['Pavement'], ['Pink Floyd'], ['Elton John'], ['Led Zeppelin'], ['Kanye West'], ['New York Dolls'], ['Toots & The Maytals'], ['Curtis Mayfield'], ['Bruce Springsteen'], ['Roxy Music'], ['Lynyrd Skynyrd'], ['50 Cent'], ['Harry Nilsson'], ['Marvin Gaye'], ['Merle Haggard'], ['Al Green'], ['The Stooges'], ['The Who'], ['David Bowie'], ['OutKast'], ['Bob Marley'], ['Lou Reed'], ['Daft Punk'], ['Mott the Hoople'], ['Bruce Springsteen'], ['Tom Petty'], ['Jackson Browne'], ['ZZ Top'], ['Bob Marley'], ['Bill Withers'], ['Sly & The Family Stone'], ['Paul McCartney'], ['Joni Mitchell'], ['LaBelle'], ['Brian Eno'], ['Big Star'], ['Neil Young'], ['Elton John'], ['The Stone Roses'], ['The Meters'], ['Bob Marley'], ['Barry White'], ['Tom Waits'], ['Jackson Browne'], ['Steely Dan'], ['Vampire Weekend'], ['DJ Shadow'], ['Roxy Music'], ['Randy Newman'], ['Bill Withers'], ['Eric Clapton'], ['Gram Parsons'], ['Richard & Linda Thompson'], ['Patti Smith'], ['Linda Ronstadt'], ['Snoop Dogg'], ['Bob Dylan'], ['Bruce Springsteen'], ['Queen'], ['Arctic Monkeys'], ['GZA'], ['Led Zeppelin'], ['Willie Nelson'], ['Pink Floyd'], ['Neil Young'], ['KISS'], ['Bob Dylan'], ['Brian Eno'], ['Parliament'], ['Earth, Wind & Fire'], ['Al Green'], ['My Chemical Romance'], ['Luther Vandross'], ['Elton John'], ['Madvillain'], ['Aerosmith'], ['Drake'], ['Roxy Music'], ['Mobb Deep'], ['Lil Wayne'], ['Fleetwood Mac'], ['Isaac Hayes'], ['Stevie Wonder'], ['Ramones'], ['Neutral Milk Hotel'], ['David Bowie'], ['Rush'], ['Charles Mingus'], ['Elvis Presley'], ['Tame Impala'], ['Eagles'], ['The Modern Lovers'], ['Aerosmith'], ['J Dilla'], ['Radiohead'], [\"D'Angelo\"], ['Bob Dylan'], ['Brian Wilson'], ['Fela Kuti'], ['Ghostface Killah'], ['Jackson Browne'], ['Motörhead'], ['David Bowie'], ['The Beach Boys'], ['Steve Miller'], ['KISS'], ['Steely Dan'], ['The Roots'], ['Bob Marley'], ['Sex Pistols'], ['Eric Church'], ['The Clash'], ['Television'], ['Bee Gees'], ['Billy Joel'], ['David Bowie'], ['Kraftwerk'], ['Four Tops'], ['Wire'], ['Ramones'], ['Usher'], ['Elvis Costello'], ['Pet Shop Boys'], ['2Pac'], ['Primal Scream'], ['Blur'], ['James Brown'], ['The Weeknd'], ['David Bowie'], ['Yes'], ['Bad Bunny'], ['Suicide'], ['Paul McCartney'], ['Nine Inch Nails'], ['Can'], ['Eric Clapton'], ['Meat Loaf'], ['Jason Isbell'], ['Kid Cudi'], ['Bon Iver'], ['Cheap Trick'], ['The Isley Brothers'], ['King Sunny Ade'], ['Fleetwood Mac'], ['Maxwell'], ['Talking Heads'], ['Manu Chao'], ['Juvenile'], ['Daddy Yankee'], ['Bruce Springsteen'], ['Sparks'], ['Elvis Costello'], ['Buddy Holly'], ['The Pharcyde'], ['DEVO'], ['John Mayer'], ['Big Star'], ['Van Halen'], ['Cars'], ['Harry Styles'], ['Funkadelic'], ['Boyz II Men'], ['Rolling Stones'], ['Marvin Gaye'], ['Willie Nelson'], ['Billy Joel'], ['Cheap Trick'], ['The Police'], ['Blondie'], ['Talking Heads'], ['The Clash'], ['Michael Jackson'], ['Pink Floyd'], ['Tom Petty'], ['Buzzcocks'], ['Gang of Four'], ['Neil Young'], ['AC/DC'], ['Pulp'], ['Graham Parker'], ['The Police'], ['The Cure'], ['Public Image Ltd.'], ['Cocteau Twins'], ['The Slits'], ['Elvis Costello'], ['The Breeders'], ['The B-52s'], ['AC/DC'], ['Joy Division'], ['The Clash'], ['X-Ray Spex'], ['Sonic Youth'], ['Prince'], ['Bruce Springsteen'], ['Yeah Yeah Yeahs'], ['U2'], ['Talking Heads'], ['Blondie'], ['The Magnetic Fields'], ['Pretenders'], ['Chic'], ['Yo La Tengo'], ['LCD Soundsystem'], ['X'], [\"The Go-Go's\"], ['Belle & Sebastian'], ['Black Flag'], ['Rufus'], ['Arcade Fire'], ['Rolling Stones'], ['Various Artists'], ['Robert Johnson'], ['The Police'], ['Echo and The Bunnymen'], ['X'], ['Michael Jackson'], ['Chuck Berry'], ['Prince'], ['Bruce Springsteen'], ['Roxy Music'], ['Elvis Costello'], ['Richard & Linda Thompson'], ['Cyndi Lauper'], ['The Police'], ['R.E.M.'], ['U2'], ['Def Leppard'], ['ZZ Top'], ['Eurythmics'], ['Bob Marley'], ['Hank Williams'], ['Bruce Springsteen'], ['The Replacements'], ['Minutemen'], ['Run-DMC'], ['Los Lobos'], ['The Smiths'], ['Prince'], ['Talking Heads'], ['Whitney Houston'], ['Sam Cooke'], ['Tom Waits'], ['Dire Straits'], ['Hüsker Dü'], ['The Replacements'], ['The Jesus and Mary Chain'], ['The Smiths'], ['LL Cool J'], ['The Pogues'], ['Paul Simon'], ['Metallica'], ['The Smiths'], ['Beastie Boys'], ['Run-DMC'], ['Peter Gabriel'], ['James Brown'], ['Steve Earle'], ['Prince'], ['Eric B. & Rakim'], [\"Guns N' Roses\"], ['U2'], ['George Michael'], ['Michael Jackson'], ['Boogie Down Productions'], ['New Order'], ['The Smiths'], ['R.E.M.'], ['Def Leppard'], ['Bruce Springsteen'], ['Public Enemy'], ['Tracey Chapman'], ['Public Enemy'], ['N.W.A'], [\"Jane's Addiction\"], ['EPMD'], ['Sonic Youth'], ['Pixies'], ['Madonna'], ['Janet Jackson'], [\"Sinead O'Connor\"], ['Bonnie Raitt'], ['De La Soul'], ['The Cure'], ['Beastie Boys'], ['Don Henley'], ['Pixies'], ['Madonna'], ['Depeche Mode'], ['Public Enemy'], [\"Jane's Addiction\"], ['Various Artists'], ['Nirvana'], ['A Tribe Called Quest'], ['James Brown'], ['U2'], ['Pearl Jam'], ['Red Hot Chili Peppers'], ['Ray Charles'], ['Metallica'], ['Phil Spector'], ['John Lee Hooker'], ['James Brown'], ['My Bloody Valentine'], ['Massive Attack'], ['Ike & Tina Turner'], ['Dr. Dre'], ['R.E.M.'], ['Pavement'], ['Rage Against the Machine'], ['Curtis Mayfield'], ['Jackie Wilson'], ['Liz Phair'], ['PJ Harvey'], ['Wu-Tang Clan'], ['Nirvana'], ['Jerry Lee Lewis'], ['The Smashing Pumpkins'], ['Mary J. Blige'], ['TLC'], ['The Notorious B.I.G.'], ['Nas'], ['Nine Inch Nails'], ['Jeff Buckley'], ['Nirvana'], ['Weezer'], ['Green Day'], ['Pavement'], ['Soundgarden'], ['Johnny Cash'], ['Pearl Jam'], ['Hole'], ['Portishead'], ['Various Artists'], ['Alanis Morissette'], ['Bjork'], ['PJ Harvey'], ['Oasis'], ['Radiohead'], ['The Temptations'], ['No Doubt'], ['The Smashing Pumpkins'], ['Jay-Z'], ['Beck'], ['Fugees'], ['Janet Jackson'], ['Radiohead'], ['The Notorious B.I.G.'], ['Buena Vista Social Club'], ['Bob Dylan'], ['Various Artists'], ['Lauryn Hill'], ['Lucinda Williams'], ['Madonna'], ['Massive Attack'], ['Otis Redding'], ['Hank Williams'], ['The Mamas and the Papas'], ['Various Artists'], ['Red Hot Chili Peppers'], ['Eminem'], ['Neil Diamond'], ['Moby'], ['Tom Waits'], ['Rage Against the Machine'], ['Patsy Cline'], ['Madonna'], ['Radiohead'], [\"D'Angelo\"], ['OutKast'], ['Eminem'], ['U2'], ['The Supremes'], ['Jay-Z'], ['The Strokes'], ['Bob Dylan'], ['Muddy Waters'], ['ABBA'], ['No Doubt'], ['Boz Scaggs'], ['Ian Dury and the Blockheads'], ['Bonnie Raitt'], ['B.B. King'], ['Linda Ronstadt'], ['Bob Dylan'], ['Bruce Springsteen'], ['Radiohead'], ['Loretta Lynn'], ['Coldplay'], ['Vampire Weekend'], ['M.I.A.'], ['Arctic Monkeys'], ['MGMT'], ['The White Stripes'], ['My Morning Jacket'], ['Creedence Clearwater Revival'], ['Eminem'], ['Peter Wolf'], ['Beck'], ['Sam Cooke'], ['The White Stripes'], ['Manu Chao'], ['The Beach Boys']]\n"
          ]
        },
        {
          "output_type": "display_data",
          "data": {
            "text/plain": [
              "386"
            ]
          },
          "metadata": {}
        },
        {
          "output_type": "stream",
          "name": "stdout",
          "text": [
            "[['Frank Sinatra'], ['Bo Diddley'], ['Elvis Presley'], ['Frank Sinatra'], ['Little Richard'], ['Beyonce'], ['Amy Winehouse'], ['Buddy Holly'], ['Kate Bush'], ['Miles Davis'], ['John Coltrane'], ['Beyonce'], ['Ornette Coleman'], ['Erykah Badu'], ['Missy Elliott'], [\"Howlin' Wolf\"], ['Taylor Swift'], ['Fiona Apple'], ['Ray Charles'], ['Janet Jackson'], ['Etta James'], ['Joni Mitchell'], ['Adele'], ['Muddy Waters'], ['Miles Davis'], ['Aretha Franklin'], ['Erykah Badu'], ['Robert Johnson'], ['Sleater-Kinney'], ['Bobby \"Blue\" Bland'], ['Robyn'], ['Sade'], ['Bjork'], ['Nina Simone'], ['Fiona Apple'], ['Ray Charles'], [\"Howlin' Wolf\"], ['The Chicks'], ['James Brown'], ['Rihanna'], ['Tori Amos'], ['Sade'], ['Bob Dylan'], ['The Beatles'], ['Phil Spector'], ['Joni Mitchell'], ['The Beatles'], ['Kacey Musgraves'], ['Mary J. Blige'], ['Alicia Keys'], ['Donna Summer'], ['The Ronettes'], [\"Destiny's Child\"], ['Shania Twain'], ['Solange'], ['PJ Harvey'], ['Aaliyah'], ['Rosalia'], ['Billie Holiday'], ['The Beatles'], ['Lana Del Ray'], ['The Beatles'], ['Muddy Waters'], ['Gillian Welch'], ['Aretha Franklin'], ['Mariah Carey'], ['Kelis'], ['Taylor Swift'], ['Diana Ross'], ['Billie EIlish'], ['The Raincoats'], ['Getz & Gilberto'], ['Anita Baker'], ['M.I.A.'], ['Lucinda Williams'], ['Loretta Lynn'], ['Britney Spears'], ['Fiona Apple'], ['Alice Coltrane'], ['Roberta Flack'], ['Bob Dylan'], ['The Beatles'], ['Lorde'], ['Laura Nyro'], ['SZA'], ['Sheryl Crow'], ['Selena'], ['Miranda Lambert'], ['Lady Gaga'], ['John Coltrane'], ['Otis Redding'], ['Bob Dylan'], ['Shakira'], ['The Beatles'], ['The Byrds'], ['B.B. King'], ['The Beach Boys'], ['Rolling Stones'], ['Rolling Stones'], ['The Who']]\n"
          ]
        },
        {
          "output_type": "display_data",
          "data": {
            "text/plain": [
              "78"
            ]
          },
          "metadata": {}
        },
        {
          "output_type": "stream",
          "name": "stdout",
          "text": [
            "passed demo data\n"
          ]
        }
      ],
      "source": [
        "### Exercise 1 solution -- 1 point ###\n",
        "def unique_artists(albums_list):\n",
        "    ### YOUR CODE HERE\n",
        "    artistlist = []\n",
        "    for dictionary in albums_list:\n",
        "      for key,value in dictionary.items():\n",
        "        if key == 'Clean_Name':\n",
        "          artistlist.append(value)\n",
        "    artistlist = set(artistlist)\n",
        "\n",
        "    testcomp = [[value for key,value in dictionary.items() if key == 'Clean_Name']for dictionary in albums_list]\n",
        "    print(testcomp)\n",
        "    return len(artistlist)\n",
        "### demo function call ###\n",
        "# number of artists for the complete list\n",
        "result = unique_artists(albums)\n",
        "display(result)\n",
        "# number of artists for the demo data\n",
        "result = unique_artists(albums_list_ex1_demo)\n",
        "display(result)\n",
        "assert result == 78, 'Demo data does not pass.'\n",
        "print('passed demo data')"
      ]
    },
    {
      "cell_type": "code",
      "execution_count": null,
      "id": "8b67c45f-571a-4c6f-83dd-d722d38dfe70",
      "metadata": {
        "id": "8b67c45f-571a-4c6f-83dd-d722d38dfe70"
      },
      "outputs": [],
      "source": [
        "# test cell\n",
        "# Run this cell to test if your code is correct\n",
        "albums_list_2a = albums_list[150:250]\n",
        "assert unique_artists(albums_list_2a) == 70, \"Your function does not return the correct number of unique artists in the first test data set.\"\n",
        "albums_list_2b = albums_list[251:350]\n",
        "assert unique_artists(albums_list_2b) == 76, \"Your function does not return the correct number of unique artists in the second test data set.\"\n",
        "albums_list_2c = albums_list[351:450]\n",
        "assert unique_artists(albums_list_2c) == 90, \"Your function does not return the correct number of unique artists in the third test data set.\"\n",
        "print(\"Passed\")"
      ]
    },
    {
      "cell_type": "markdown",
      "id": "3831a9f3-c4a2-483b-9aec-2205eb8cd5d9",
      "metadata": {
        "id": "3831a9f3-c4a2-483b-9aec-2205eb8cd5d9"
      },
      "source": [
        "# Ex. 2 (**1 point**): `number_one_albums` #\n",
        "\n",
        "Given a list of dictionaries, `albums_list`, complete the function,\n",
        "```python\n",
        "def number_one_albums(albums_list):\n",
        "    ...\n",
        "```\n",
        "so that it returns a list containing the following two list elements:\n",
        "\n",
        "- the number of albums in the `albums_list` variable, that reached the top position on the Billboard Album chart.\n",
        "- A tuple, containing the album name and year that it was released, for the album that reached number 1, that is last in the list\n",
        "of number 1 albums, when the list is sorted alphabetically by the album name. For this exercise, students can assume that all\n",
        "of the albums have different names, so they will not need to break any sorting ties.\n",
        "\n",
        "**Input:**\n",
        "- A list of dictionaries, `albums_list`. It will have the same format as the `albums` variable above. For testing, it may or may not contain all of the values in the variable, so your code must account for a different number of albums to be in your input.\n",
        "\n",
        "**Your task:** Copy this list and output a list with the following two elements:\n",
        "\n",
        "- the count of number 1 albums,\n",
        "- A tuple of the last alphabetical album name and year it was released.\n",
        "\n",
        "**Output:** Return a list, without modifying the input `albums_list`. The list will be have the following two elements:\n",
        "\n",
        "- the count of number on albums,\n",
        "- A tuple of the last alphabetical album name and year it was released.\n",
        "\n",
        "**Caveat(s)/comment(s)/hint(s):**\n",
        "1. The list of dictionaries passed into the function may have albums from multiple years. It may or may not be the complete list of albums.\n",
        "\n",
        "2. The fields `Album`, `Peak_Billboard_Position`, and `Release_Year` are probably going to be important for this exercise.\n",
        "\n",
        "3. For the entire list, there are `142` number 1 albums. The last alphabetical number 1 album is 'Yeezus', which was released in 2013."
      ]
    },
    {
      "cell_type": "code",
      "execution_count": 49,
      "id": "ca836306-4f38-43bf-9d03-dea79c651601",
      "metadata": {
        "id": "ca836306-4f38-43bf-9d03-dea79c651601"
      },
      "outputs": [],
      "source": [
        "# Run this cell, to populate the demo data for the student to work with\n",
        "albums_list = albums\n",
        "albums_list_ex2_demo = albums[0:50]"
      ]
    },
    {
      "cell_type": "markdown",
      "id": "44bcd73f-a43b-4e73-b984-1acf279c2967",
      "metadata": {
        "id": "44bcd73f-a43b-4e73-b984-1acf279c2967"
      },
      "source": [
        "#### A properly-code function will return the following value, for the demo data:\n",
        "\n",
        "[11, ('With the Beatles', '1963')]"
      ]
    },
    {
      "cell_type": "code",
      "execution_count": 65,
      "id": "a72b9cdb",
      "metadata": {
        "id": "a72b9cdb",
        "colab": {
          "base_uri": "https://localhost:8080/",
          "height": 52
        },
        "outputId": "cd786097-dfe0-4795-9467-f5fbefc3a686"
      },
      "outputs": [
        {
          "output_type": "display_data",
          "data": {
            "text/plain": [
              "[11, ('With the Beatles', '1963')]"
            ]
          },
          "metadata": {}
        },
        {
          "output_type": "stream",
          "name": "stdout",
          "text": [
            "passed demo data\n"
          ]
        }
      ],
      "source": [
        "### Exercise 2 solution -- 1 point, with added sorting, could be \"easier\" 2 point exercise ###\n",
        "def number_one_albums(albums_list):\n",
        "  res = []\n",
        "  counter = 0\n",
        "  reptup = ()\n",
        "  for dictionary in albums_list:\n",
        "      for key,value in dictionary.items():\n",
        "        if dictionary['Peak_Billboard_Position'] == '1':\n",
        "          counter += 1\n",
        "          reptup = (dictionary['Album'], dictionary['Release_Year'])\n",
        "          res.append(reptup)\n",
        "  res = sorted(res)\n",
        "  return [len(set(sorted(res))), res[-1]]\n",
        "\n",
        "  print(res)\n",
        "### demo function call ###\n",
        "# number one albums for the demo data\n",
        "result = number_one_albums(albums_list_ex2_demo)\n",
        "display(result)\n",
        "assert result == [11, ('With the Beatles', '1963')], 'Demo data does not pass.'\n",
        "print('passed demo data')"
      ]
    },
    {
      "cell_type": "code",
      "execution_count": null,
      "id": "ce24fd1b-158e-426a-b444-5e57e82b9fcb",
      "metadata": {
        "id": "ce24fd1b-158e-426a-b444-5e57e82b9fcb"
      },
      "outputs": [],
      "source": [
        "# test cell\n",
        "# Run this cell to test if your code is correct\n",
        "albums_list_3a = albums_list[150:250]\n",
        "assert number_one_albums(albums_list_3a) == [24, ('Wheels of Fire', '1968')], \"Your function does not return the correct answer for the first test data set.\"\n",
        "albums_list_3b = albums_list[251:350]\n",
        "assert number_one_albums(albums_list_3b) == [22, ('Yeezus', '2013')], \"Your function does not return the correct answer for the second test data set.\"\n",
        "albums_list_3c = albums_list[351:450]\n",
        "assert number_one_albums(albums_list_3c) == [18, ('Wish You Were Here', '1975')], \"Your function does not return the correct answer for the third test data set.\"\n",
        "print(\"Passed\")"
      ]
    },
    {
      "cell_type": "code",
      "execution_count": null,
      "id": "9d395355-e1ee-41fb-881d-36c3b542355c",
      "metadata": {
        "id": "9d395355-e1ee-41fb-881d-36c3b542355c"
      },
      "outputs": [],
      "source": []
    }
  ],
  "metadata": {
    "celltoolbar": "Edit Metadata",
    "hide_input": false,
    "interpreter": {
      "hash": "f2b38b6e01547e8f771d473ea2b8718fd0728eea782e4c924ed8783f739d4a6c"
    },
    "kernelspec": {
      "display_name": "Python 3 (ipykernel)",
      "language": "python",
      "name": "python3"
    },
    "language_info": {
      "codemirror_mode": {
        "name": "ipython",
        "version": 3
      },
      "file_extension": ".py",
      "mimetype": "text/x-python",
      "name": "python",
      "nbconvert_exporter": "python",
      "pygments_lexer": "ipython3",
      "version": "3.12.7"
    },
    "toc": {
      "base_numbering": 1,
      "nav_menu": {},
      "number_sections": false,
      "sideBar": true,
      "skip_h1_title": false,
      "title_cell": "Table of Contents",
      "title_sidebar": "Contents",
      "toc_cell": false,
      "toc_position": {
        "height": "calc(100% - 180px)",
        "left": "10px",
        "top": "150px",
        "width": "247px"
      },
      "toc_section_display": true,
      "toc_window_display": true
    },
    "colab": {
      "provenance": [],
      "include_colab_link": true
    }
  },
  "nbformat": 4,
  "nbformat_minor": 5
}